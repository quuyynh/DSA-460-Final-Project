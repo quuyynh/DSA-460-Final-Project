{
  "nbformat": 4,
  "nbformat_minor": 0,
  "metadata": {
    "colab": {
      "provenance": []
    },
    "kernelspec": {
      "name": "python3",
      "display_name": "Python 3"
    },
    "language_info": {
      "name": "python"
    }
  },
  "cells": [
    {
      "cell_type": "markdown",
      "source": [
        "Logistic Regression"
      ],
      "metadata": {
        "id": "pPnoewkWVyIb"
      }
    },
    {
      "cell_type": "code",
      "execution_count": null,
      "metadata": {
        "id": "kFIIs-ryST9t"
      },
      "outputs": [],
      "source": [
        "import pandas as pd\n",
        "import numpy as np\n",
        "from sklearn.model_selection import train_test_split\n",
        "from sklearn.preprocessing import LabelEncoder, StandardScaler\n",
        "from sklearn.linear_model import LogisticRegression\n",
        "from sklearn.metrics import classification_report, confusion_matrix, accuracy_score\n",
        "from sklearn.feature_selection import SequentialFeatureSelector"
      ]
    },
    {
      "cell_type": "markdown",
      "source": [
        "Run the Initail feature"
      ],
      "metadata": {
        "id": "NGV67XKKy-WC"
      }
    },
    {
      "cell_type": "code",
      "source": [
        "df = pd.read_csv(\"mushrooms_named.csv\")\n",
        "features = [\n",
        "  'odor', 'spore-print-color', 'gill-size', 'bruises', 'ring-type', 'population',\n",
        "  'habitat','gill-color', 'cap-shape', 'veil-color','stalk-color-above-ring'\n",
        "]\n",
        "\n",
        "df = df[features + ['class']]"
      ],
      "metadata": {
        "id": "aQABnyC9xlCv"
      },
      "execution_count": null,
      "outputs": []
    },
    {
      "cell_type": "code",
      "source": [
        "le = LabelEncoder()\n",
        "df = df.copy()  # avoid SettingWithCopyWarning\n",
        "\n",
        "for col in df.columns:\n",
        "    df[col] = le.fit_transform(df[col])\n",
        "\n",
        "X = df.drop('class', axis=1)\n",
        "y = df['class']\n",
        "\n",
        "X_train, X_test, y_train, y_test = train_test_split(\n",
        "    X, y, test_size=0.2, random_state=42, stratify=y\n",
        ")\n",
        "\n",
        "scaler = StandardScaler()\n",
        "X_train_scaled = scaler.fit_transform(X_train)\n",
        "X_test_scaled = scaler.transform(X_test)\n",
        "\n",
        "lr_model = LogisticRegression(max_iter=1000, random_state=42)\n",
        "lr_model.fit(X_train_scaled, y_train)\n",
        "\n",
        "y_pred = lr_model.predict(X_test_scaled)\n",
        "\n",
        "print(\"Confusion Matrix:\\n\", confusion_matrix(y_test, y_pred))\n",
        "print(\"\\nClassification Report:\\n\", classification_report(y_test, y_pred))\n",
        "print(\"Accuracy:\", accuracy_score(y_test, y_pred))"
      ],
      "metadata": {
        "colab": {
          "base_uri": "https://localhost:8080/"
        },
        "id": "c2o_L5skxtXe",
        "outputId": "7728eea4-8c19-4455-fa19-62a7ae51cbcc"
      },
      "execution_count": null,
      "outputs": [
        {
          "output_type": "stream",
          "name": "stdout",
          "text": [
            "Confusion Matrix:\n",
            " [[764  78]\n",
            " [111 672]]\n",
            "\n",
            "Classification Report:\n",
            "               precision    recall  f1-score   support\n",
            "\n",
            "           0       0.87      0.91      0.89       842\n",
            "           1       0.90      0.86      0.88       783\n",
            "\n",
            "    accuracy                           0.88      1625\n",
            "   macro avg       0.88      0.88      0.88      1625\n",
            "weighted avg       0.88      0.88      0.88      1625\n",
            "\n",
            "Accuracy: 0.8836923076923077\n"
          ]
        }
      ]
    },
    {
      "cell_type": "markdown",
      "source": [
        "Cross Validate Features"
      ],
      "metadata": {
        "id": "8rezqxDFzknd"
      }
    },
    {
      "cell_type": "code",
      "source": [
        "X = df[features].copy()\n",
        "y = df['class']\n",
        "\n",
        "le = LabelEncoder()\n",
        "for col in X.columns:\n",
        "    X[col] = le.fit_transform(X[col])\n",
        "\n",
        "scaler = StandardScaler()\n",
        "X_scaled = scaler.fit_transform(X)\n",
        "\n",
        "lg = LogisticRegression(random_state=42)\n",
        "\n",
        "sfs = SequentialFeatureSelector(lg,\n",
        "                                 n_features_to_select='auto',\n",
        "                                 direction='forward',\n",
        "                                 scoring='accuracy',\n",
        "                                 cv=5,\n",
        "                                 n_jobs=-1)\n",
        "\n",
        "sfs.fit(X_scaled, y)\n",
        "\n",
        "selected_features = X.columns[sfs.get_support()]\n",
        "print(\"Optimal features selected:\")\n",
        "print(selected_features.tolist())"
      ],
      "metadata": {
        "colab": {
          "base_uri": "https://localhost:8080/"
        },
        "id": "sBP-NOGTxzik",
        "outputId": "00c68543-0e45-439a-8521-8f9b6fb3ea64"
      },
      "execution_count": null,
      "outputs": [
        {
          "output_type": "stream",
          "name": "stdout",
          "text": [
            "Optimal features selected:\n",
            "['gill-size', 'bruises', 'population', 'habitat', 'stalk-color-above-ring']\n"
          ]
        }
      ]
    },
    {
      "cell_type": "markdown",
      "source": [
        "Run the Features"
      ],
      "metadata": {
        "id": "pIb_rYfNzuYq"
      }
    },
    {
      "cell_type": "code",
      "source": [
        "features = [\n",
        "    'gill-size', 'bruises', 'population', 'habitat', 'stalk-color-above-ring',\n",
        "    'spore-print-color'\n",
        "]\n",
        "\n",
        "df = df[features + ['class']]\n"
      ],
      "metadata": {
        "id": "78ooFxLkS8qY"
      },
      "execution_count": null,
      "outputs": []
    },
    {
      "cell_type": "code",
      "source": [
        "le = LabelEncoder()\n",
        "df = df.copy()  # avoid SettingWithCopyWarning\n",
        "\n",
        "for col in df.columns:\n",
        "    df[col] = le.fit_transform(df[col])\n"
      ],
      "metadata": {
        "id": "MfrGB5bJTD3X"
      },
      "execution_count": null,
      "outputs": []
    },
    {
      "cell_type": "code",
      "source": [
        "X = df.drop('class', axis=1)\n",
        "y = df['class']\n",
        "\n",
        "X_train, X_test, y_train, y_test = train_test_split(\n",
        "    X, y, test_size=0.2, random_state=42, stratify=y\n",
        ")\n",
        "\n",
        "scaler = StandardScaler()\n",
        "X_train_scaled = scaler.fit_transform(X_train)\n",
        "X_test_scaled = scaler.transform(X_test)\n",
        "\n",
        "lr_model = LogisticRegression(max_iter=1000, random_state=42)\n",
        "lr_model.fit(X_train_scaled, y_train)\n",
        "\n",
        "y_pred = lr_model.predict(X_test_scaled)\n",
        "\n",
        "print(\"Confusion Matrix:\\n\", confusion_matrix(y_test, y_pred))\n",
        "print(\"\\nClassification Report:\\n\", classification_report(y_test, y_pred))\n",
        "print(\"Accuracy:\", accuracy_score(y_test, y_pred))"
      ],
      "metadata": {
        "id": "dJxdXp4pVG7l",
        "colab": {
          "base_uri": "https://localhost:8080/"
        },
        "outputId": "d838c73a-b880-475c-a3de-dee762b40f92"
      },
      "execution_count": null,
      "outputs": [
        {
          "output_type": "stream",
          "name": "stdout",
          "text": [
            "Confusion Matrix:\n",
            " [[716 126]\n",
            " [120 663]]\n",
            "\n",
            "Classification Report:\n",
            "               precision    recall  f1-score   support\n",
            "\n",
            "           0       0.86      0.85      0.85       842\n",
            "           1       0.84      0.85      0.84       783\n",
            "\n",
            "    accuracy                           0.85      1625\n",
            "   macro avg       0.85      0.85      0.85      1625\n",
            "weighted avg       0.85      0.85      0.85      1625\n",
            "\n",
            "Accuracy: 0.8486153846153847\n"
          ]
        }
      ]
    },
    {
      "cell_type": "code",
      "source": [],
      "metadata": {
        "id": "x0w6Ktbuz62e"
      },
      "execution_count": null,
      "outputs": []
    }
  ]
}