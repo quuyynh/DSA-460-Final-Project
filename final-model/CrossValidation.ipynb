{
  "cells": [
    {
      "cell_type": "code",
      "execution_count": 5,
      "metadata": {
        "id": "HnB9lNR7FaZn"
      },
      "outputs": [],
      "source": [
        "import pandas as pd\n",
        "import numpy as np\n",
        "from sklearn.model_selection import train_test_split\n",
        "from sklearn.preprocessing import LabelEncoder, StandardScaler\n",
        "from sklearn.neighbors import KNeighborsClassifier\n",
        "from sklearn.metrics import classification_report, confusion_matrix, accuracy_score"
      ]
    },
    {
      "cell_type": "code",
      "execution_count": 6,
      "metadata": {
        "id": "gOh7c9KSFcmR"
      },
      "outputs": [],
      "source": [
        "df = pd.read_csv(\"mushrooms_named.csv\")\n",
        "features = [\n",
        "\n",
        "  'stalk-surface-above-ring', 'stalk-surface-below-ring', 'gill-size',\n",
        "  'odor', 'bruises', 'habitat', 'ring-type', 'spore-print-color', 'population',\n",
        "  'gill-attachment', 'gill-spacing', 'stalk-color-above-ring', 'stalk-color-below-ring'\n",
        "]\n",
        "\n",
        "df = df[features + ['class']]\n"
      ]
    },
    {
      "cell_type": "code",
      "execution_count": 7,
      "metadata": {
        "id": "rnV8Tdc0JoeS"
      },
      "outputs": [],
      "source": [
        "X = df[features]\n",
        "y = df['class']\n"
      ]
    },
    {
      "cell_type": "code",
      "execution_count": 8,
      "metadata": {
        "id": "NvTda7OqJsV0"
      },
      "outputs": [],
      "source": [
        "from sklearn.preprocessing import LabelEncoder, StandardScaler\n",
        "\n",
        "# Step 1: Select features (copy to avoid warning)\n",
        "X = df[features].copy()\n",
        "y = df['class']\n",
        "\n",
        "# Step 2: Label encode each categorical column\n",
        "le = LabelEncoder()\n",
        "for col in X.columns:\n",
        "    X[col] = le.fit_transform(X[col])\n",
        "\n",
        "# Step 3: Scale the features\n",
        "scaler = StandardScaler()\n",
        "X_scaled = scaler.fit_transform(X)\n",
        "\n"
      ]
    },
    {
      "cell_type": "code",
      "execution_count": 9,
      "metadata": {
        "colab": {
          "base_uri": "https://localhost:8080/"
        },
        "id": "m9xJtV2aJuKt",
        "outputId": "0c624900-cdfd-44c7-c34d-016b554843a3"
      },
      "outputs": [
        {
          "output_type": "stream",
          "name": "stdout",
          "text": [
            " Optimal features selected:\n",
            "['stalk-surface-above-ring', 'gill-size', 'odor', 'bruises', 'habitat', 'gill-attachment']\n"
          ]
        }
      ],
      "source": [
        "from sklearn.feature_selection import SequentialFeatureSelector\n",
        "from sklearn.neighbors import KNeighborsClassifier\n",
        "\n",
        "# Reuse your scaled features\n",
        "knn = KNeighborsClassifier(n_neighbors=5)\n",
        "\n",
        "# Run Sequential Forward Selection\n",
        "sfs = SequentialFeatureSelector(knn,\n",
        "                                 n_features_to_select='auto',\n",
        "                                 direction='forward',\n",
        "                                 scoring='accuracy',\n",
        "                                 cv=5,\n",
        "                                 n_jobs=-1)\n",
        "\n",
        "sfs.fit(X_scaled, y)\n",
        "\n",
        "# Get the selected feature indices and names\n",
        "selected_features = X.columns[sfs.get_support()]\n",
        "print(\" Optimal features selected:\")\n",
        "print(selected_features.tolist())\n",
        "\n"
      ]
    },
    {
      "cell_type": "code",
      "source": [],
      "metadata": {
        "id": "2ChR1gRYNh-O"
      },
      "execution_count": null,
      "outputs": []
    }
  ],
  "metadata": {
    "colab": {
      "provenance": []
    },
    "kernelspec": {
      "display_name": "Python 3",
      "name": "python3"
    },
    "language_info": {
      "name": "python"
    }
  },
  "nbformat": 4,
  "nbformat_minor": 0
}
